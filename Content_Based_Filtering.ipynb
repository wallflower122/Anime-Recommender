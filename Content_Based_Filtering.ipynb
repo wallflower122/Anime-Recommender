{
  "nbformat": 4,
  "nbformat_minor": 0,
  "metadata": {
    "colab": {
      "name": "Content Based Filtering.ipynb",
      "provenance": []
    },
    "kernelspec": {
      "name": "python3",
      "display_name": "Python 3"
    },
    "language_info": {
      "name": "python"
    }
  },
  "cells": [
    {
      "cell_type": "code",
      "source": [
        "anime_2=anime.copy()"
      ],
      "metadata": {
        "id": "3ETNvzIrXjh2"
      },
      "execution_count": null,
      "outputs": []
    },
    {
      "cell_type": "code",
      "source": [
        "import re\n",
        "def text_cleaning(text):\n",
        "    text = re.sub(r'&quot;', '', text)\n",
        "    text = re.sub(r'.hack//', '', text)\n",
        "    text = re.sub(r'&#039;', '', text)\n",
        "    text = re.sub(r'A&#039;s', '', text)\n",
        "    text = re.sub(r'I&#039;', 'I\\'', text)\n",
        "    text = re.sub(r'&amp;', 'and', text)\n",
        "    \n",
        "    return text\n",
        "\n",
        "anime_2['name'] = anime_2['name'].apply(text_cleaning)"
      ],
      "metadata": {
        "id": "VSYWJVb4O_p5"
      },
      "execution_count": null,
      "outputs": []
    },
    {
      "cell_type": "code",
      "source": [
        "# Filling NaNs with empty string\n",
        "anime_2['genre'] = anime_2['genre'].fillna('')\n",
        "genres_str = anime_2['genre'].str.split(',').astype(str)\n",
        "print(genres_str)"
      ],
      "metadata": {
        "colab": {
          "base_uri": "https://localhost:8080/"
        },
        "id": "V9eYgwFjZQ_n",
        "outputId": "51214a09-a13c-4467-efb4-67241f844f28"
      },
      "execution_count": null,
      "outputs": [
        {
          "output_type": "stream",
          "name": "stdout",
          "text": [
            "0        ['Drama', ' Romance', ' School', ' Supernatural']\n",
            "1        ['Action', ' Adventure', ' Drama', ' Fantasy',...\n",
            "2        ['Action', ' Comedy', ' Historical', ' Parody'...\n",
            "3                                  ['Sci-Fi', ' Thriller']\n",
            "4        ['Action', ' Comedy', ' Historical', ' Parody'...\n",
            "                               ...                        \n",
            "12289                                           ['Hentai']\n",
            "12290                                           ['Hentai']\n",
            "12291                                           ['Hentai']\n",
            "12292                                           ['Hentai']\n",
            "12293                                           ['Hentai']\n",
            "Name: genre, Length: 12017, dtype: object\n"
          ]
        }
      ]
    },
    {
      "cell_type": "code",
      "source": [
        "genres_str.nunique()"
      ],
      "metadata": {
        "colab": {
          "base_uri": "https://localhost:8080/"
        },
        "id": "IKUBUXOknfTc",
        "outputId": "f88ba71e-b9e1-4ad6-e1f6-73d0fbec2ee8"
      },
      "execution_count": null,
      "outputs": [
        {
          "output_type": "execute_result",
          "data": {
            "text/plain": [
              "3229"
            ]
          },
          "metadata": {},
          "execution_count": 55
        }
      ]
    },
    {
      "cell_type": "code",
      "source": [
        "genres_str.shape"
      ],
      "metadata": {
        "colab": {
          "base_uri": "https://localhost:8080/"
        },
        "id": "xNUjHyGUpaQI",
        "outputId": "b038ed01-9f68-4607-eaf5-e53b95e5a7b5"
      },
      "execution_count": null,
      "outputs": [
        {
          "output_type": "execute_result",
          "data": {
            "text/plain": [
              "(12017,)"
            ]
          },
          "metadata": {},
          "execution_count": 56
        }
      ]
    },
    {
      "cell_type": "code",
      "source": [
        "from sklearn.feature_extraction.text import TfidfVectorizer\n",
        "\n",
        "#getting tfidf\n",
        "tfv = TfidfVectorizer(min_df=3,  max_features=None, \n",
        "            strip_accents='unicode', analyzer='word',token_pattern=r'\\w{1,}',\n",
        "            ngram_range=(1, 3),\n",
        "            stop_words = 'english')\n",
        "tfv_matrix = tfv.fit_transform(genres_str)\n",
        "tfv_matrix"
      ],
      "metadata": {
        "colab": {
          "base_uri": "https://localhost:8080/"
        },
        "id": "QPSopF8iZU_D",
        "outputId": "6d909e31-1fe3-4420-8234-e67d1c30b6f3"
      },
      "execution_count": null,
      "outputs": [
        {
          "output_type": "execute_result",
          "data": {
            "text/plain": [
              "<12017x1547 sparse matrix of type '<class 'numpy.float64'>'\n",
              "\twith 84086 stored elements in Compressed Sparse Row format>"
            ]
          },
          "metadata": {},
          "execution_count": 57
        }
      ]
    },
    {
      "cell_type": "code",
      "source": [
        "print(tfv_matrix)\n",
        "print(tfv_matrix.shape)"
      ],
      "metadata": {
        "colab": {
          "base_uri": "https://localhost:8080/"
        },
        "id": "MKF_iXm4nxhm",
        "outputId": "c81c9b29-1bf4-41bd-f90f-634ea3aab8a1"
      },
      "execution_count": null,
      "outputs": [
        {
          "output_type": "stream",
          "name": "stdout",
          "text": [
            "  (0, 1400)\t0.5020288510096058\n",
            "  (0, 675)\t0.41414988282503656\n",
            "  (0, 1461)\t0.43548991186747454\n",
            "  (0, 1392)\t0.2989195510536398\n",
            "  (0, 674)\t0.33486984351736193\n",
            "  (0, 1540)\t0.23481052665683189\n",
            "  (0, 1436)\t0.2239628734799417\n",
            "  (0, 1389)\t0.21046591813951537\n",
            "  (0, 584)\t0.18898010225320216\n",
            "  (1, 1152)\t0.38152102324269277\n",
            "  (1, 830)\t0.366908014547943\n",
            "  (1, 596)\t0.2870714302120901\n",
            "  (1, 201)\t0.2639102464014669\n",
            "  (1, 5)\t0.2564772677373269\n",
            "  (1, 1266)\t0.3310053163074712\n",
            "  (1, 1150)\t0.3310053163074712\n",
            "  (1, 827)\t0.20270167599094568\n",
            "  (1, 590)\t0.20312816116448168\n",
            "  (1, 200)\t0.20909101583394968\n",
            "  (1, 1)\t0.1573632286168298\n",
            "  (1, 1506)\t0.12721002990417352\n",
            "  (1, 1242)\t0.1894017213460727\n",
            "  (1, 1144)\t0.1640248108341495\n",
            "  (1, 779)\t0.11633137377606641\n",
            "  (1, 169)\t0.11492167796706783\n",
            "  :\t:\n",
            "  (12001, 988)\t0.5451456836618241\n",
            "  (12001, 411)\t0.4588466015333528\n",
            "  (12001, 976)\t0.22641402149443268\n",
            "  (12001, 1330)\t0.2959481029101293\n",
            "  (12001, 327)\t0.13242508495662159\n",
            "  (12002, 976)\t1.0\n",
            "  (12003, 976)\t1.0\n",
            "  (12004, 411)\t0.8681624952670579\n",
            "  (12004, 976)\t0.4283875290940082\n",
            "  (12004, 327)\t0.25055539652620923\n",
            "  (12005, 976)\t0.5068535548885824\n",
            "  (12005, 1524)\t0.4976945093451091\n",
            "  (12005, 1138)\t0.4976945093451091\n",
            "  (12005, 1523)\t0.4976945093451091\n",
            "  (12006, 976)\t1.0\n",
            "  (12007, 976)\t1.0\n",
            "  (12008, 976)\t1.0\n",
            "  (12009, 976)\t1.0\n",
            "  (12010, 976)\t1.0\n",
            "  (12011, 976)\t1.0\n",
            "  (12012, 976)\t1.0\n",
            "  (12013, 976)\t1.0\n",
            "  (12014, 976)\t1.0\n",
            "  (12015, 976)\t1.0\n",
            "  (12016, 976)\t1.0\n",
            "(12017, 1547)\n"
          ]
        }
      ]
    },
    {
      "cell_type": "code",
      "source": [
        "cos_sim = cosine_similarity(tfv_matrix)\n",
        "cos_sim.shape"
      ],
      "metadata": {
        "colab": {
          "base_uri": "https://localhost:8080/"
        },
        "id": "5LBhr5n3zLkt",
        "outputId": "db878dfe-ffb6-4a73-f98e-4782f3a1d821"
      },
      "execution_count": null,
      "outputs": [
        {
          "output_type": "execute_result",
          "data": {
            "text/plain": [
              "(12017, 12017)"
            ]
          },
          "metadata": {},
          "execution_count": 59
        }
      ]
    },
    {
      "cell_type": "code",
      "source": [
        "cos_sim"
      ],
      "metadata": {
        "colab": {
          "base_uri": "https://localhost:8080/"
        },
        "id": "TpBywy7WIL5R",
        "outputId": "19c47351-5654-49e4-ed84-a46744a5fe87"
      },
      "execution_count": null,
      "outputs": [
        {
          "output_type": "execute_result",
          "data": {
            "text/plain": [
              "array([[1.        , 0.02301622, 0.        , ..., 0.        , 0.        ,\n",
              "        0.        ],\n",
              "       [0.02301622, 1.        , 0.0253986 , ..., 0.        , 0.        ,\n",
              "        0.        ],\n",
              "       [0.        , 0.0253986 , 1.        , ..., 0.        , 0.        ,\n",
              "        0.        ],\n",
              "       ...,\n",
              "       [0.        , 0.        , 0.        , ..., 1.        , 1.        ,\n",
              "        1.        ],\n",
              "       [0.        , 0.        , 0.        , ..., 1.        , 1.        ,\n",
              "        1.        ],\n",
              "       [0.        , 0.        , 0.        , ..., 1.        , 1.        ,\n",
              "        1.        ]])"
            ]
          },
          "metadata": {},
          "execution_count": 60
        }
      ]
    },
    {
      "cell_type": "code",
      "source": [
        "    indices2 = pd.Series(anime_2.index, index = anime_2[\"name\"])"
      ],
      "metadata": {
        "id": "vrP0YjNYKOLH"
      },
      "execution_count": null,
      "outputs": []
    },
    {
      "cell_type": "code",
      "source": [
        "    indices2 = indices2[~indices2.index.duplicated(keep = \"last\")]\n",
        "    indices2"
      ],
      "metadata": {
        "colab": {
          "base_uri": "https://localhost:8080/"
        },
        "id": "hjfirHQ1IgLA",
        "outputId": "31eec67a-cf6f-4fe3-f982-c7535197d69f"
      },
      "execution_count": null,
      "outputs": [
        {
          "output_type": "execute_result",
          "data": {
            "text/plain": [
              "name\n",
              "Kimi no Na wa.                                                   0\n",
              "Fullmetal Alchemist: Brotherhood                                 1\n",
              "Gintama°                                                         2\n",
              "Steins;Gate                                                      3\n",
              "Haikyuu!!: Karasuno Koukou VS Shiratorizawa Gakuen Koukou        5\n",
              "                                                             ...  \n",
              "Toushindai My Lover: Minami tai Mecha-Minami                 12289\n",
              "Under World                                                  12290\n",
              "Violence Gekiga David no Hoshi                               12291\n",
              "Violence Gekiga Shin David no Hoshi: Inma Densetsu           12292\n",
              "Yasuji no Pornorama: Yacchimae!!                             12293\n",
              "Length: 12010, dtype: int64"
            ]
          },
          "metadata": {},
          "execution_count": 62
        }
      ]
    },
    {
      "cell_type": "code",
      "source": [
        "def content_based_recommender(df, movie_name = \"Cowboy Bebop\" , rec_count = 5):\n",
        "    movie_index = indices2[movie_name]\n",
        "    similarity_score = pd.DataFrame(cos_sim[movie_index], columns = [\"score\"])\n",
        "    similar_animes = similarity_score.sort_values(by = \"score\", ascending = False). \\\n",
        "            iloc[1:rec_count].index\n",
        "    return df[\"name\"].iloc[similar_animes]"
      ],
      "metadata": {
        "id": "C4P4rDejzYI5"
      },
      "execution_count": null,
      "outputs": []
    },
    {
      "cell_type": "code",
      "source": [
        "def anime_searcher(df, name_words_contain):\n",
        "    print(df.loc[df[\"name\"].str.contains(name_words_contain, na = False), \"name\"])"
      ],
      "metadata": {
        "id": "6UYr0JpH5ZKO"
      },
      "execution_count": null,
      "outputs": []
    },
    {
      "cell_type": "code",
      "source": [
        "content_based_recommender(anime_2, movie_name = \"Lupin III: $1 Money Wars\", rec_count = 5)"
      ],
      "metadata": {
        "colab": {
          "base_uri": "https://localhost:8080/"
        },
        "id": "bmLWCDXLzikB",
        "outputId": "1ecd93e3-dc82-4fcf-edfe-c6b37f5f561e"
      },
      "execution_count": null,
      "outputs": [
        {
          "output_type": "execute_result",
          "data": {
            "text/plain": [
              "2991    Lupin III: Princess of the Breeze - Kakusareta...\n",
              "5716                                  Duel Masters Charge\n",
              "1569                                  Lupin III: Part III\n",
              "5717                                 Duel Masters Victory\n",
              "Name: name, dtype: object"
            ]
          },
          "metadata": {},
          "execution_count": 65
        }
      ]
    },
    {
      "cell_type": "code",
      "source": [
        "anime_searcher(anime_2, name_words_contain = \"Lupin\")"
      ],
      "metadata": {
        "colab": {
          "base_uri": "https://localhost:8080/"
        },
        "id": "bJ6o70ZI5cql",
        "outputId": "e061dd97-a1c5-4481-c10a-e99ca6feb440"
      },
      "execution_count": null,
      "outputs": [
        {
          "output_type": "stream",
          "name": "stdout",
          "text": [
            "307                        Lupin III: Cagliostro no Shiro\n",
            "472              Lupin III vs. Detective Conan: The Movie\n",
            "561                                      Lupin III (2015)\n",
            "629                                    Lupin III: Part II\n",
            "662              Lupin the IIIrd: Jigen Daisuke no Bohyou\n",
            "695                         Lupin III vs. Detective Conan\n",
            "838               Lupin the Third: Mine Fujiko to Iu Onna\n",
            "892                    Lupin III: Episode 0 First Contact\n",
            "936                                             Lupin III\n",
            "1423             Lupin III: Otakara Henkyaku Daisakusen!!\n",
            "1569                                  Lupin III: Part III\n",
            "1633                     Lupin III: Kutabare! Nostradamus\n",
            "1672                              Lupin III: Walther P-38\n",
            "2009                   Lupin III: Fuuma Ichizoku no Inbou\n",
            "2116           Lupin III: Chi no Kokuin - Eien no Mermaid\n",
            "2153                            Lupin III (2015) Specials\n",
            "2154             Lupin III: Honoo no Kioku - Tokyo Crisis\n",
            "2194                             Lupin III: $1 Money Wars\n",
            "2241                             Lupin III: Dead or Alive\n",
            "2272                          Lupin III: Nusumareta Lupin\n",
            "2344                       Lupin III: Alcatraz Connection\n",
            "2371    Lupin III: Tenshi no Tactics - Yume no Kakera ...\n",
            "2413    Lupin III: Sweet Lost Night - Mahou no Lamp wa...\n",
            "2487                        Lupin III: Moeyo Zantetsuken!\n",
            "2649                       Lupin III: Seven Days Rhapsody\n",
            "2751                Lupin III: Twilight Gemini no Himitsu\n",
            "2795                 Lupin III: Harimao no Zaihou wo Oe!!\n",
            "2796                              Lupin III: The Last Job\n",
            "2990                   Lupin III: Hemingway Paper no Nazo\n",
            "2991    Lupin III: Princess of the Breeze - Kakusareta...\n",
            "3074                  Lupin III: Lupin vs. Fukusei-ningen\n",
            "3105                      Lupin III: Lupin Ansatsu Shirei\n",
            "3173                           Lupin III: Kiri no Elusive\n",
            "3256      Lupin III: Ai no Da Capo - Fujikos Unlucky Days\n",
            "3301           Lupin III: Bye Bye Liberty - Kiki Ippatsu!\n",
            "3381          Lupin III: Touhou Kenbunroku - Another Page\n",
            "3444                       Lupin III: Lupin Ikka Seizoroi\n",
            "3500                 Lupin III: Napoleon no Jisho wo Ubae\n",
            "3624                  Lupin III: Russia yori Ai wo Komete\n",
            "4031                 Lupin III: Babylon no Ougon Densetsu\n",
            "4160                       Lupin III (2015): Italian Game\n",
            "4249                             Lupin III: Green vs. Red\n",
            "4846                                Lupin III: Pilot Film\n",
            "5106                                      Lupin the Third\n",
            "5357                               Lupin III: Secret File\n",
            "5657                                     Lupin tai Holmes\n",
            "6005                       Lupin III: Ikiteita Majutsushi\n",
            "6842                                       Lupin Shanshei\n",
            "6949                                           Lupin VIII\n",
            "9094                            Kaitou Lupin: 813 no Nazo\n",
            "9410                                 Lupin Shanshei Pilot\n",
            "Name: name, dtype: object\n"
          ]
        }
      ]
    }
  ]
}