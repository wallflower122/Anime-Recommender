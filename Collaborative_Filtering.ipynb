{
  "nbformat": 4,
  "nbformat_minor": 0,
  "metadata": {
    "colab": {
      "name": "Collaborative Filtering.ipynb",
      "provenance": []
    },
    "kernelspec": {
      "name": "python3",
      "display_name": "Python 3"
    },
    "language_info": {
      "name": "python"
    }
  },
  "cells": [
    {
      "cell_type": "code",
      "source": [
        "from scipy.sparse import csr_matrix\n",
        "#Creating a sparse matrix\n",
        "anime_matrix = csr_matrix(anime_pivot.values)\n",
        "print(anime_matrix)\n",
        "print(anime_matrix.shape)"
      ],
      "metadata": {
        "id": "lfYTKylv6IJ9",
        "colab": {
          "base_uri": "https://localhost:8080/"
        },
        "outputId": "c42e0a7a-961c-4247-d545-89b76d20d05a"
      },
      "execution_count": null,
      "outputs": [
        {
          "output_type": "stream",
          "name": "stdout",
          "text": [
            "  (0, 1460)\t0.9285714285714288\n",
            "  (0, 1461)\t-3.071428571428571\n",
            "  (0, 2170)\t1.9285714285714288\n",
            "  (0, 3578)\t-1.0714285714285712\n",
            "  (0, 4210)\t-0.07142857142857117\n",
            "  (0, 4698)\t-0.07142857142857117\n",
            "  (0, 4873)\t-0.07142857142857117\n",
            "  (0, 4968)\t-0.07142857142857117\n",
            "  (0, 5176)\t-0.07142857142857117\n",
            "  (0, 5773)\t-0.07142857142857117\n",
            "  (0, 6309)\t-0.07142857142857117\n",
            "  (0, 6338)\t-0.07142857142857117\n",
            "  (0, 6343)\t0.9285714285714288\n",
            "  (0, 7924)\t0.9285714285714288\n",
            "  (1, 1461)\t-2.0\n",
            "  (1, 4299)\t-4.0\n",
            "  (1, 4623)\t1.0\n",
            "  (1, 8607)\t5.0\n",
            "  (2, 161)\t1.3135135135135139\n",
            "  (2, 201)\t0.31351351351351386\n",
            "  (2, 319)\t0.31351351351351386\n",
            "  (2, 345)\t-2.686486486486486\n",
            "  (2, 376)\t0.31351351351351386\n",
            "  (2, 426)\t-0.6864864864864861\n",
            "  (2, 433)\t-0.6864864864864861\n",
            "  :\t:\n",
            "  (9778, 8510)\t-0.2193614830072086\n",
            "  (9778, 8524)\t0.7806385169927914\n",
            "  (9778, 8533)\t-0.2193614830072086\n",
            "  (9778, 8570)\t-1.2193614830072086\n",
            "  (9778, 8598)\t0.7806385169927914\n",
            "  (9778, 8623)\t1.7806385169927914\n",
            "  (9778, 8645)\t-2.2193614830072086\n",
            "  (9778, 8652)\t-0.2193614830072086\n",
            "  (9778, 8655)\t0.7806385169927914\n",
            "  (9778, 8659)\t0.7806385169927914\n",
            "  (9778, 8670)\t1.7806385169927914\n",
            "  (9778, 8672)\t-0.2193614830072086\n",
            "  (9778, 8677)\t-0.2193614830072086\n",
            "  (9778, 8679)\t-1.2193614830072086\n",
            "  (9778, 8685)\t-1.2193614830072086\n",
            "  (9778, 8695)\t-0.2193614830072086\n",
            "  (9778, 8703)\t0.7806385169927914\n",
            "  (9778, 8710)\t1.7806385169927914\n",
            "  (9778, 8711)\t-0.2193614830072086\n",
            "  (9778, 8712)\t0.7806385169927914\n",
            "  (9779, 311)\t0.7999999999999998\n",
            "  (9779, 1461)\t-1.2000000000000002\n",
            "  (9779, 4623)\t3.8\n",
            "  (9779, 5464)\t-2.2\n",
            "  (9779, 6309)\t-1.2000000000000002\n",
            "(9780, 8713)\n"
          ]
        }
      ]
    },
    {
      "cell_type": "code",
      "source": [
        "from sklearn.neighbors import NearestNeighbors\n",
        "#Fitting the model\n",
        "model_knn = NearestNeighbors(metric = 'cosine', algorithm = 'brute').fit(anime_matrix)"
      ],
      "metadata": {
        "id": "4-ocO-CWkzeb"
      },
      "execution_count": null,
      "outputs": []
    },
    {
      "cell_type": "code",
      "source": [
        "df=pd.DataFrame(anime_pivot.index)\n",
        "df.columns=['name']\n",
        "query_index=df.query('name == \"Death Note\"').index\n",
        "query_index"
      ],
      "metadata": {
        "colab": {
          "base_uri": "https://localhost:8080/"
        },
        "id": "p1-jnVA2EuHK",
        "outputId": "9dcaf9e6-0f12-42cd-af14-52d8f3d22932"
      },
      "execution_count": null,
      "outputs": [
        {
          "output_type": "execute_result",
          "data": {
            "text/plain": [
              "Int64Index([1638], dtype='int64')"
            ]
          },
          "metadata": {},
          "execution_count": 49
        }
      ]
    },
    {
      "cell_type": "code",
      "source": [
        "distances, indices = model_knn.kneighbors(anime_pivot.iloc[query_index,:].values.reshape(1, -1), n_neighbors = 6)"
      ],
      "metadata": {
        "id": "TbmC7k4iTH5s"
      },
      "execution_count": null,
      "outputs": []
    },
    {
      "cell_type": "code",
      "source": [
        "anime_pivot.iloc[query_index,:]"
      ],
      "metadata": {
        "colab": {
          "base_uri": "https://localhost:8080/",
          "height": 223
        },
        "id": "L6fSk4DlGV_J",
        "outputId": "b57c373d-6732-4e53-9c87-9ecc0b07e09a"
      },
      "execution_count": null,
      "outputs": [
        {
          "output_type": "execute_result",
          "data": {
            "text/plain": [
              "user_id        5         7         17        38     43        46        123    \\\n",
              "name                                                                            \n",
              "Death Note -4.689032  0.310968  1.310968 -2.689032    0.0  1.310968 -0.689032   \n",
              "\n",
              "user_id        129       139       160    ...  73406     73417     73422  \\\n",
              "name                                      ...                              \n",
              "Death Note  1.310968 -0.689032  0.310968  ...    0.0  0.310968 -1.689032   \n",
              "\n",
              "user_id        73457     73460     73476  73499  73502     73503     73507  \n",
              "name                                                                        \n",
              "Death Note  0.310968  1.310968 -0.689032    0.0    0.0 -1.689032  0.310968  \n",
              "\n",
              "[1 rows x 8713 columns]"
            ],
            "text/html": [
              "\n",
              "  <div id=\"df-83cb5269-e2fa-4146-bcdf-208dd22074d7\">\n",
              "    <div class=\"colab-df-container\">\n",
              "      <div>\n",
              "<style scoped>\n",
              "    .dataframe tbody tr th:only-of-type {\n",
              "        vertical-align: middle;\n",
              "    }\n",
              "\n",
              "    .dataframe tbody tr th {\n",
              "        vertical-align: top;\n",
              "    }\n",
              "\n",
              "    .dataframe thead th {\n",
              "        text-align: right;\n",
              "    }\n",
              "</style>\n",
              "<table border=\"1\" class=\"dataframe\">\n",
              "  <thead>\n",
              "    <tr style=\"text-align: right;\">\n",
              "      <th>user_id</th>\n",
              "      <th>5</th>\n",
              "      <th>7</th>\n",
              "      <th>17</th>\n",
              "      <th>38</th>\n",
              "      <th>43</th>\n",
              "      <th>46</th>\n",
              "      <th>123</th>\n",
              "      <th>129</th>\n",
              "      <th>139</th>\n",
              "      <th>160</th>\n",
              "      <th>...</th>\n",
              "      <th>73406</th>\n",
              "      <th>73417</th>\n",
              "      <th>73422</th>\n",
              "      <th>73457</th>\n",
              "      <th>73460</th>\n",
              "      <th>73476</th>\n",
              "      <th>73499</th>\n",
              "      <th>73502</th>\n",
              "      <th>73503</th>\n",
              "      <th>73507</th>\n",
              "    </tr>\n",
              "    <tr>\n",
              "      <th>name</th>\n",
              "      <th></th>\n",
              "      <th></th>\n",
              "      <th></th>\n",
              "      <th></th>\n",
              "      <th></th>\n",
              "      <th></th>\n",
              "      <th></th>\n",
              "      <th></th>\n",
              "      <th></th>\n",
              "      <th></th>\n",
              "      <th></th>\n",
              "      <th></th>\n",
              "      <th></th>\n",
              "      <th></th>\n",
              "      <th></th>\n",
              "      <th></th>\n",
              "      <th></th>\n",
              "      <th></th>\n",
              "      <th></th>\n",
              "      <th></th>\n",
              "      <th></th>\n",
              "    </tr>\n",
              "  </thead>\n",
              "  <tbody>\n",
              "    <tr>\n",
              "      <th>Death Note</th>\n",
              "      <td>-4.689032</td>\n",
              "      <td>0.310968</td>\n",
              "      <td>1.310968</td>\n",
              "      <td>-2.689032</td>\n",
              "      <td>0.0</td>\n",
              "      <td>1.310968</td>\n",
              "      <td>-0.689032</td>\n",
              "      <td>1.310968</td>\n",
              "      <td>-0.689032</td>\n",
              "      <td>0.310968</td>\n",
              "      <td>...</td>\n",
              "      <td>0.0</td>\n",
              "      <td>0.310968</td>\n",
              "      <td>-1.689032</td>\n",
              "      <td>0.310968</td>\n",
              "      <td>1.310968</td>\n",
              "      <td>-0.689032</td>\n",
              "      <td>0.0</td>\n",
              "      <td>0.0</td>\n",
              "      <td>-1.689032</td>\n",
              "      <td>0.310968</td>\n",
              "    </tr>\n",
              "  </tbody>\n",
              "</table>\n",
              "<p>1 rows × 8713 columns</p>\n",
              "</div>\n",
              "      <button class=\"colab-df-convert\" onclick=\"convertToInteractive('df-83cb5269-e2fa-4146-bcdf-208dd22074d7')\"\n",
              "              title=\"Convert this dataframe to an interactive table.\"\n",
              "              style=\"display:none;\">\n",
              "        \n",
              "  <svg xmlns=\"http://www.w3.org/2000/svg\" height=\"24px\"viewBox=\"0 0 24 24\"\n",
              "       width=\"24px\">\n",
              "    <path d=\"M0 0h24v24H0V0z\" fill=\"none\"/>\n",
              "    <path d=\"M18.56 5.44l.94 2.06.94-2.06 2.06-.94-2.06-.94-.94-2.06-.94 2.06-2.06.94zm-11 1L8.5 8.5l.94-2.06 2.06-.94-2.06-.94L8.5 2.5l-.94 2.06-2.06.94zm10 10l.94 2.06.94-2.06 2.06-.94-2.06-.94-.94-2.06-.94 2.06-2.06.94z\"/><path d=\"M17.41 7.96l-1.37-1.37c-.4-.4-.92-.59-1.43-.59-.52 0-1.04.2-1.43.59L10.3 9.45l-7.72 7.72c-.78.78-.78 2.05 0 2.83L4 21.41c.39.39.9.59 1.41.59.51 0 1.02-.2 1.41-.59l7.78-7.78 2.81-2.81c.8-.78.8-2.07 0-2.86zM5.41 20L4 18.59l7.72-7.72 1.47 1.35L5.41 20z\"/>\n",
              "  </svg>\n",
              "      </button>\n",
              "      \n",
              "  <style>\n",
              "    .colab-df-container {\n",
              "      display:flex;\n",
              "      flex-wrap:wrap;\n",
              "      gap: 12px;\n",
              "    }\n",
              "\n",
              "    .colab-df-convert {\n",
              "      background-color: #E8F0FE;\n",
              "      border: none;\n",
              "      border-radius: 50%;\n",
              "      cursor: pointer;\n",
              "      display: none;\n",
              "      fill: #1967D2;\n",
              "      height: 32px;\n",
              "      padding: 0 0 0 0;\n",
              "      width: 32px;\n",
              "    }\n",
              "\n",
              "    .colab-df-convert:hover {\n",
              "      background-color: #E2EBFA;\n",
              "      box-shadow: 0px 1px 2px rgba(60, 64, 67, 0.3), 0px 1px 3px 1px rgba(60, 64, 67, 0.15);\n",
              "      fill: #174EA6;\n",
              "    }\n",
              "\n",
              "    [theme=dark] .colab-df-convert {\n",
              "      background-color: #3B4455;\n",
              "      fill: #D2E3FC;\n",
              "    }\n",
              "\n",
              "    [theme=dark] .colab-df-convert:hover {\n",
              "      background-color: #434B5C;\n",
              "      box-shadow: 0px 1px 3px 1px rgba(0, 0, 0, 0.15);\n",
              "      filter: drop-shadow(0px 1px 2px rgba(0, 0, 0, 0.3));\n",
              "      fill: #FFFFFF;\n",
              "    }\n",
              "  </style>\n",
              "\n",
              "      <script>\n",
              "        const buttonEl =\n",
              "          document.querySelector('#df-83cb5269-e2fa-4146-bcdf-208dd22074d7 button.colab-df-convert');\n",
              "        buttonEl.style.display =\n",
              "          google.colab.kernel.accessAllowed ? 'block' : 'none';\n",
              "\n",
              "        async function convertToInteractive(key) {\n",
              "          const element = document.querySelector('#df-83cb5269-e2fa-4146-bcdf-208dd22074d7');\n",
              "          const dataTable =\n",
              "            await google.colab.kernel.invokeFunction('convertToInteractive',\n",
              "                                                     [key], {});\n",
              "          if (!dataTable) return;\n",
              "\n",
              "          const docLinkHtml = 'Like what you see? Visit the ' +\n",
              "            '<a target=\"_blank\" href=https://colab.research.google.com/notebooks/data_table.ipynb>data table notebook</a>'\n",
              "            + ' to learn more about interactive tables.';\n",
              "          element.innerHTML = '';\n",
              "          dataTable['output_type'] = 'display_data';\n",
              "          await google.colab.output.renderOutput(dataTable, element);\n",
              "          const docLink = document.createElement('div');\n",
              "          docLink.innerHTML = docLinkHtml;\n",
              "          element.appendChild(docLink);\n",
              "        }\n",
              "      </script>\n",
              "    </div>\n",
              "  </div>\n",
              "  "
            ]
          },
          "metadata": {},
          "execution_count": 68
        }
      ]
    },
    {
      "cell_type": "code",
      "source": [
        "for i in range(0, len(distances.flatten())):\n",
        "    if i == 0:\n",
        "        print('Recommendations for {0}:\\n'.format(anime_pivot.index[query_index]))\n",
        "    else:\n",
        "        print('{0}: {1}, with distance of {2}:'.format(i, anime_pivot.index[indices.flatten()[i]], distances.flatten()[i]))\n"
      ],
      "metadata": {
        "colab": {
          "base_uri": "https://localhost:8080/"
        },
        "id": "-H1xNT3XToUq",
        "outputId": "39a960b1-8ab5-4ffd-8186-34dacadca93b"
      },
      "execution_count": null,
      "outputs": [
        {
          "output_type": "stream",
          "name": "stdout",
          "text": [
            "Recommendations for Index(['Death Note'], dtype='object', name='name'):\n",
            "\n",
            "1: Code Geass: Hangyaku no Lelouch, with distance of 0.6845184466545383:\n",
            "2: Code Geass: Hangyaku no Lelouch R2, with distance of 0.6910253505094469:\n",
            "3: Shingeki no Kyojin, with distance of 0.7163363603468365:\n",
            "4: Elfen Lied, with distance of 0.7278518240811285:\n",
            "5: Fullmetal Alchemist: Brotherhood, with distance of 0.7547773703400851:\n"
          ]
        }
      ]
    }
  ]
}